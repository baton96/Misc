{
 "cells": [
  {
   "cell_type": "code",
   "execution_count": 1,
   "metadata": {
    "collapsed": true
   },
   "outputs": [],
   "source": [
    "import xml.etree.cElementTree as cET\n",
    "from collections import Counter\n",
    "import pandas as pd\n",
    "import requests\n",
    "import os\n",
    "import re"
   ]
  },
  {
   "cell_type": "code",
   "execution_count": 4,
   "outputs": [
    {
     "data": {
      "text/plain": "        English   French   German  Spanish  Portuguese  Esperanto  Italian  \\\nLetter                                                                       \na       0.08167  0.07636  0.06516  0.11525     0.14634    0.12117  0.11745   \nb       0.01492  0.00901  0.01886  0.02215     0.01043    0.00980  0.00927   \nc       0.02782  0.03260  0.02732  0.04019     0.03882    0.00776  0.04501   \nd       0.04253  0.03669  0.05076  0.05010     0.04992    0.03044  0.03736   \ne       0.12702  0.14715  0.16396  0.12181     0.12570    0.08995  0.11792   \nf       0.02228  0.01066  0.01656  0.00692     0.01023    0.01037  0.01153   \ng       0.02015  0.00866  0.03009  0.01768     0.01303    0.01171  0.01644   \nh       0.06094  0.00737  0.04577  0.00703     0.00781    0.00384  0.00636   \ni       0.06966  0.07529  0.06550  0.06247     0.06186    0.10012  0.10143   \nj       0.00153  0.00613  0.00268  0.00493     0.00397    0.03501  0.00011   \nk       0.00772  0.00074  0.01417  0.00011     0.00015    0.04163  0.00009   \nl       0.04025  0.05456  0.03437  0.04967     0.02779    0.06104  0.06510   \nm       0.02406  0.02968  0.02534  0.03157     0.04738    0.02994  0.02512   \nn       0.06749  0.07095  0.09776  0.06712     0.04446    0.07955  0.06883   \no       0.07507  0.05796  0.02594  0.08683     0.09735    0.08779  0.09832   \np       0.01929  0.02521  0.00670  0.02510     0.02523    0.02755  0.03056   \nq       0.00095  0.01362  0.00018  0.00877     0.01204    0.00000  0.00505   \nr       0.05987  0.06693  0.07003  0.06871     0.06530    0.05914  0.06367   \ns       0.06327  0.07948  0.07270  0.07977     0.06805    0.06092  0.04981   \nt       0.09056  0.07244  0.06154  0.04632     0.04336    0.05276  0.05623   \nu       0.02758  0.06311  0.04166  0.02927     0.03639    0.03183  0.03011   \nv       0.00978  0.01838  0.00846  0.01138     0.01575    0.01904  0.02097   \nw       0.02360  0.00049  0.01921  0.00017     0.00037    0.00000  0.00033   \nx       0.00150  0.00427  0.00034  0.00215     0.00253    0.00000  0.00003   \ny       0.01974  0.00128  0.00039  0.01008     0.00006    0.00000  0.00020   \nz       0.00074  0.00326  0.01134  0.00467     0.00470    0.00494  0.01181   \n\n        Turkish  Swedish  Polish    Dutch   Danish  Icelandic  Finnish  \\\nLetter                                                                   \na       0.11920  0.09383  0.0891  0.07486  0.06025    0.10110  0.12217   \nb       0.02844  0.01535  0.0147  0.01584  0.02000    0.01043  0.00281   \nc       0.00963  0.01486  0.0396  0.01242  0.00565    0.00000  0.00281   \nd       0.04706  0.04702  0.0325  0.05933  0.05858    0.01575  0.01043   \ne       0.08912  0.10149  0.0766  0.18910  0.15453    0.06418  0.07968   \nf       0.00461  0.02027  0.0030  0.00805  0.02406    0.03013  0.00194   \ng       0.01253  0.02862  0.0142  0.03403  0.04077    0.04241  0.00392   \nh       0.01212  0.02090  0.0108  0.02380  0.01621    0.01871  0.01851   \ni       0.08600  0.05817  0.0821  0.06499  0.06000    0.07578  0.10817   \nj       0.00034  0.00614  0.0228  0.01460  0.00730    0.01144  0.02042   \nk       0.04683  0.03140  0.0351  0.02248  0.03395    0.03314  0.04973   \nl       0.05922  0.05275  0.0210  0.03568  0.05229    0.04532  0.05761   \nm       0.03752  0.03471  0.0280  0.02213  0.03237    0.04041  0.03202   \nn       0.07487  0.08542  0.0552  0.10032  0.07240    0.07711  0.08826   \no       0.02476  0.04482  0.0775  0.06063  0.04636    0.02166  0.05614   \np       0.00886  0.01839  0.0313  0.01570  0.01756    0.00789  0.01842   \nq       0.00000  0.00020  0.0014  0.00009  0.00007    0.00000  0.00013   \nr       0.06722  0.08431  0.0469  0.06411  0.08956    0.08581  0.02872   \ns       0.03014  0.06590  0.0432  0.03730  0.05805    0.05630  0.07862   \nt       0.03314  0.07691  0.0398  0.06790  0.06862    0.04953  0.08750   \nu       0.03235  0.01919  0.0250  0.01990  0.01979    0.04562  0.05008   \nv       0.00959  0.02415  0.0004  0.02850  0.02332    0.02437  0.02250   \nw       0.00000  0.00142  0.0465  0.01520  0.00069    0.00000  0.00094   \nx       0.00000  0.00159  0.0002  0.00036  0.00028    0.00046  0.00031   \ny       0.03336  0.00708  0.0376  0.00035  0.00698    0.00900  0.01745   \nz       0.01500  0.00070  0.0564  0.01390  0.00034    0.00000  0.00051   \n\n          Czech  \nLetter           \na       0.08421  \nb       0.00822  \nc       0.00740  \nd       0.03475  \ne       0.07562  \nf       0.00084  \ng       0.00092  \nh       0.01356  \ni       0.06073  \nj       0.01433  \nk       0.02894  \nl       0.03802  \nm       0.02446  \nn       0.06468  \no       0.06695  \np       0.01906  \nq       0.00001  \nr       0.04799  \ns       0.05212  \nt       0.05727  \nu       0.02160  \nv       0.05344  \nw       0.00016  \nx       0.00027  \ny       0.01043  \nz       0.01599  ",
      "text/html": "<div>\n<style scoped>\n    .dataframe tbody tr th:only-of-type {\n        vertical-align: middle;\n    }\n\n    .dataframe tbody tr th {\n        vertical-align: top;\n    }\n\n    .dataframe thead th {\n        text-align: right;\n    }\n</style>\n<table border=\"1\" class=\"dataframe\">\n  <thead>\n    <tr style=\"text-align: right;\">\n      <th></th>\n      <th>English</th>\n      <th>French</th>\n      <th>German</th>\n      <th>Spanish</th>\n      <th>Portuguese</th>\n      <th>Esperanto</th>\n      <th>Italian</th>\n      <th>Turkish</th>\n      <th>Swedish</th>\n      <th>Polish</th>\n      <th>Dutch</th>\n      <th>Danish</th>\n      <th>Icelandic</th>\n      <th>Finnish</th>\n      <th>Czech</th>\n    </tr>\n    <tr>\n      <th>Letter</th>\n      <th></th>\n      <th></th>\n      <th></th>\n      <th></th>\n      <th></th>\n      <th></th>\n      <th></th>\n      <th></th>\n      <th></th>\n      <th></th>\n      <th></th>\n      <th></th>\n      <th></th>\n      <th></th>\n      <th></th>\n    </tr>\n  </thead>\n  <tbody>\n    <tr>\n      <th>a</th>\n      <td>0.08167</td>\n      <td>0.07636</td>\n      <td>0.06516</td>\n      <td>0.11525</td>\n      <td>0.14634</td>\n      <td>0.12117</td>\n      <td>0.11745</td>\n      <td>0.11920</td>\n      <td>0.09383</td>\n      <td>0.0891</td>\n      <td>0.07486</td>\n      <td>0.06025</td>\n      <td>0.10110</td>\n      <td>0.12217</td>\n      <td>0.08421</td>\n    </tr>\n    <tr>\n      <th>b</th>\n      <td>0.01492</td>\n      <td>0.00901</td>\n      <td>0.01886</td>\n      <td>0.02215</td>\n      <td>0.01043</td>\n      <td>0.00980</td>\n      <td>0.00927</td>\n      <td>0.02844</td>\n      <td>0.01535</td>\n      <td>0.0147</td>\n      <td>0.01584</td>\n      <td>0.02000</td>\n      <td>0.01043</td>\n      <td>0.00281</td>\n      <td>0.00822</td>\n    </tr>\n    <tr>\n      <th>c</th>\n      <td>0.02782</td>\n      <td>0.03260</td>\n      <td>0.02732</td>\n      <td>0.04019</td>\n      <td>0.03882</td>\n      <td>0.00776</td>\n      <td>0.04501</td>\n      <td>0.00963</td>\n      <td>0.01486</td>\n      <td>0.0396</td>\n      <td>0.01242</td>\n      <td>0.00565</td>\n      <td>0.00000</td>\n      <td>0.00281</td>\n      <td>0.00740</td>\n    </tr>\n    <tr>\n      <th>d</th>\n      <td>0.04253</td>\n      <td>0.03669</td>\n      <td>0.05076</td>\n      <td>0.05010</td>\n      <td>0.04992</td>\n      <td>0.03044</td>\n      <td>0.03736</td>\n      <td>0.04706</td>\n      <td>0.04702</td>\n      <td>0.0325</td>\n      <td>0.05933</td>\n      <td>0.05858</td>\n      <td>0.01575</td>\n      <td>0.01043</td>\n      <td>0.03475</td>\n    </tr>\n    <tr>\n      <th>e</th>\n      <td>0.12702</td>\n      <td>0.14715</td>\n      <td>0.16396</td>\n      <td>0.12181</td>\n      <td>0.12570</td>\n      <td>0.08995</td>\n      <td>0.11792</td>\n      <td>0.08912</td>\n      <td>0.10149</td>\n      <td>0.0766</td>\n      <td>0.18910</td>\n      <td>0.15453</td>\n      <td>0.06418</td>\n      <td>0.07968</td>\n      <td>0.07562</td>\n    </tr>\n    <tr>\n      <th>f</th>\n      <td>0.02228</td>\n      <td>0.01066</td>\n      <td>0.01656</td>\n      <td>0.00692</td>\n      <td>0.01023</td>\n      <td>0.01037</td>\n      <td>0.01153</td>\n      <td>0.00461</td>\n      <td>0.02027</td>\n      <td>0.0030</td>\n      <td>0.00805</td>\n      <td>0.02406</td>\n      <td>0.03013</td>\n      <td>0.00194</td>\n      <td>0.00084</td>\n    </tr>\n    <tr>\n      <th>g</th>\n      <td>0.02015</td>\n      <td>0.00866</td>\n      <td>0.03009</td>\n      <td>0.01768</td>\n      <td>0.01303</td>\n      <td>0.01171</td>\n      <td>0.01644</td>\n      <td>0.01253</td>\n      <td>0.02862</td>\n      <td>0.0142</td>\n      <td>0.03403</td>\n      <td>0.04077</td>\n      <td>0.04241</td>\n      <td>0.00392</td>\n      <td>0.00092</td>\n    </tr>\n    <tr>\n      <th>h</th>\n      <td>0.06094</td>\n      <td>0.00737</td>\n      <td>0.04577</td>\n      <td>0.00703</td>\n      <td>0.00781</td>\n      <td>0.00384</td>\n      <td>0.00636</td>\n      <td>0.01212</td>\n      <td>0.02090</td>\n      <td>0.0108</td>\n      <td>0.02380</td>\n      <td>0.01621</td>\n      <td>0.01871</td>\n      <td>0.01851</td>\n      <td>0.01356</td>\n    </tr>\n    <tr>\n      <th>i</th>\n      <td>0.06966</td>\n      <td>0.07529</td>\n      <td>0.06550</td>\n      <td>0.06247</td>\n      <td>0.06186</td>\n      <td>0.10012</td>\n      <td>0.10143</td>\n      <td>0.08600</td>\n      <td>0.05817</td>\n      <td>0.0821</td>\n      <td>0.06499</td>\n      <td>0.06000</td>\n      <td>0.07578</td>\n      <td>0.10817</td>\n      <td>0.06073</td>\n    </tr>\n    <tr>\n      <th>j</th>\n      <td>0.00153</td>\n      <td>0.00613</td>\n      <td>0.00268</td>\n      <td>0.00493</td>\n      <td>0.00397</td>\n      <td>0.03501</td>\n      <td>0.00011</td>\n      <td>0.00034</td>\n      <td>0.00614</td>\n      <td>0.0228</td>\n      <td>0.01460</td>\n      <td>0.00730</td>\n      <td>0.01144</td>\n      <td>0.02042</td>\n      <td>0.01433</td>\n    </tr>\n    <tr>\n      <th>k</th>\n      <td>0.00772</td>\n      <td>0.00074</td>\n      <td>0.01417</td>\n      <td>0.00011</td>\n      <td>0.00015</td>\n      <td>0.04163</td>\n      <td>0.00009</td>\n      <td>0.04683</td>\n      <td>0.03140</td>\n      <td>0.0351</td>\n      <td>0.02248</td>\n      <td>0.03395</td>\n      <td>0.03314</td>\n      <td>0.04973</td>\n      <td>0.02894</td>\n    </tr>\n    <tr>\n      <th>l</th>\n      <td>0.04025</td>\n      <td>0.05456</td>\n      <td>0.03437</td>\n      <td>0.04967</td>\n      <td>0.02779</td>\n      <td>0.06104</td>\n      <td>0.06510</td>\n      <td>0.05922</td>\n      <td>0.05275</td>\n      <td>0.0210</td>\n      <td>0.03568</td>\n      <td>0.05229</td>\n      <td>0.04532</td>\n      <td>0.05761</td>\n      <td>0.03802</td>\n    </tr>\n    <tr>\n      <th>m</th>\n      <td>0.02406</td>\n      <td>0.02968</td>\n      <td>0.02534</td>\n      <td>0.03157</td>\n      <td>0.04738</td>\n      <td>0.02994</td>\n      <td>0.02512</td>\n      <td>0.03752</td>\n      <td>0.03471</td>\n      <td>0.0280</td>\n      <td>0.02213</td>\n      <td>0.03237</td>\n      <td>0.04041</td>\n      <td>0.03202</td>\n      <td>0.02446</td>\n    </tr>\n    <tr>\n      <th>n</th>\n      <td>0.06749</td>\n      <td>0.07095</td>\n      <td>0.09776</td>\n      <td>0.06712</td>\n      <td>0.04446</td>\n      <td>0.07955</td>\n      <td>0.06883</td>\n      <td>0.07487</td>\n      <td>0.08542</td>\n      <td>0.0552</td>\n      <td>0.10032</td>\n      <td>0.07240</td>\n      <td>0.07711</td>\n      <td>0.08826</td>\n      <td>0.06468</td>\n    </tr>\n    <tr>\n      <th>o</th>\n      <td>0.07507</td>\n      <td>0.05796</td>\n      <td>0.02594</td>\n      <td>0.08683</td>\n      <td>0.09735</td>\n      <td>0.08779</td>\n      <td>0.09832</td>\n      <td>0.02476</td>\n      <td>0.04482</td>\n      <td>0.0775</td>\n      <td>0.06063</td>\n      <td>0.04636</td>\n      <td>0.02166</td>\n      <td>0.05614</td>\n      <td>0.06695</td>\n    </tr>\n    <tr>\n      <th>p</th>\n      <td>0.01929</td>\n      <td>0.02521</td>\n      <td>0.00670</td>\n      <td>0.02510</td>\n      <td>0.02523</td>\n      <td>0.02755</td>\n      <td>0.03056</td>\n      <td>0.00886</td>\n      <td>0.01839</td>\n      <td>0.0313</td>\n      <td>0.01570</td>\n      <td>0.01756</td>\n      <td>0.00789</td>\n      <td>0.01842</td>\n      <td>0.01906</td>\n    </tr>\n    <tr>\n      <th>q</th>\n      <td>0.00095</td>\n      <td>0.01362</td>\n      <td>0.00018</td>\n      <td>0.00877</td>\n      <td>0.01204</td>\n      <td>0.00000</td>\n      <td>0.00505</td>\n      <td>0.00000</td>\n      <td>0.00020</td>\n      <td>0.0014</td>\n      <td>0.00009</td>\n      <td>0.00007</td>\n      <td>0.00000</td>\n      <td>0.00013</td>\n      <td>0.00001</td>\n    </tr>\n    <tr>\n      <th>r</th>\n      <td>0.05987</td>\n      <td>0.06693</td>\n      <td>0.07003</td>\n      <td>0.06871</td>\n      <td>0.06530</td>\n      <td>0.05914</td>\n      <td>0.06367</td>\n      <td>0.06722</td>\n      <td>0.08431</td>\n      <td>0.0469</td>\n      <td>0.06411</td>\n      <td>0.08956</td>\n      <td>0.08581</td>\n      <td>0.02872</td>\n      <td>0.04799</td>\n    </tr>\n    <tr>\n      <th>s</th>\n      <td>0.06327</td>\n      <td>0.07948</td>\n      <td>0.07270</td>\n      <td>0.07977</td>\n      <td>0.06805</td>\n      <td>0.06092</td>\n      <td>0.04981</td>\n      <td>0.03014</td>\n      <td>0.06590</td>\n      <td>0.0432</td>\n      <td>0.03730</td>\n      <td>0.05805</td>\n      <td>0.05630</td>\n      <td>0.07862</td>\n      <td>0.05212</td>\n    </tr>\n    <tr>\n      <th>t</th>\n      <td>0.09056</td>\n      <td>0.07244</td>\n      <td>0.06154</td>\n      <td>0.04632</td>\n      <td>0.04336</td>\n      <td>0.05276</td>\n      <td>0.05623</td>\n      <td>0.03314</td>\n      <td>0.07691</td>\n      <td>0.0398</td>\n      <td>0.06790</td>\n      <td>0.06862</td>\n      <td>0.04953</td>\n      <td>0.08750</td>\n      <td>0.05727</td>\n    </tr>\n    <tr>\n      <th>u</th>\n      <td>0.02758</td>\n      <td>0.06311</td>\n      <td>0.04166</td>\n      <td>0.02927</td>\n      <td>0.03639</td>\n      <td>0.03183</td>\n      <td>0.03011</td>\n      <td>0.03235</td>\n      <td>0.01919</td>\n      <td>0.0250</td>\n      <td>0.01990</td>\n      <td>0.01979</td>\n      <td>0.04562</td>\n      <td>0.05008</td>\n      <td>0.02160</td>\n    </tr>\n    <tr>\n      <th>v</th>\n      <td>0.00978</td>\n      <td>0.01838</td>\n      <td>0.00846</td>\n      <td>0.01138</td>\n      <td>0.01575</td>\n      <td>0.01904</td>\n      <td>0.02097</td>\n      <td>0.00959</td>\n      <td>0.02415</td>\n      <td>0.0004</td>\n      <td>0.02850</td>\n      <td>0.02332</td>\n      <td>0.02437</td>\n      <td>0.02250</td>\n      <td>0.05344</td>\n    </tr>\n    <tr>\n      <th>w</th>\n      <td>0.02360</td>\n      <td>0.00049</td>\n      <td>0.01921</td>\n      <td>0.00017</td>\n      <td>0.00037</td>\n      <td>0.00000</td>\n      <td>0.00033</td>\n      <td>0.00000</td>\n      <td>0.00142</td>\n      <td>0.0465</td>\n      <td>0.01520</td>\n      <td>0.00069</td>\n      <td>0.00000</td>\n      <td>0.00094</td>\n      <td>0.00016</td>\n    </tr>\n    <tr>\n      <th>x</th>\n      <td>0.00150</td>\n      <td>0.00427</td>\n      <td>0.00034</td>\n      <td>0.00215</td>\n      <td>0.00253</td>\n      <td>0.00000</td>\n      <td>0.00003</td>\n      <td>0.00000</td>\n      <td>0.00159</td>\n      <td>0.0002</td>\n      <td>0.00036</td>\n      <td>0.00028</td>\n      <td>0.00046</td>\n      <td>0.00031</td>\n      <td>0.00027</td>\n    </tr>\n    <tr>\n      <th>y</th>\n      <td>0.01974</td>\n      <td>0.00128</td>\n      <td>0.00039</td>\n      <td>0.01008</td>\n      <td>0.00006</td>\n      <td>0.00000</td>\n      <td>0.00020</td>\n      <td>0.03336</td>\n      <td>0.00708</td>\n      <td>0.0376</td>\n      <td>0.00035</td>\n      <td>0.00698</td>\n      <td>0.00900</td>\n      <td>0.01745</td>\n      <td>0.01043</td>\n    </tr>\n    <tr>\n      <th>z</th>\n      <td>0.00074</td>\n      <td>0.00326</td>\n      <td>0.01134</td>\n      <td>0.00467</td>\n      <td>0.00470</td>\n      <td>0.00494</td>\n      <td>0.01181</td>\n      <td>0.01500</td>\n      <td>0.00070</td>\n      <td>0.0564</td>\n      <td>0.01390</td>\n      <td>0.00034</td>\n      <td>0.00000</td>\n      <td>0.00051</td>\n      <td>0.01599</td>\n    </tr>\n  </tbody>\n</table>\n</div>"
     },
     "execution_count": 4,
     "metadata": {},
     "output_type": "execute_result"
    }
   ],
   "source": [
    "df = pd.read_html(\n",
    "    'https://en.wikipedia.org/wiki/Letter_frequency',\n",
    "    index_col=0\n",
    ")[-1].iloc[:26].applymap(lambda cell: float(cell.strip('~%*')) / 100)\n",
    "langs = [col.split('[')[0] for col in df.columns]\n",
    "df.columns = langs\n",
    "df"
   ],
   "metadata": {
    "collapsed": false,
    "pycharm": {
     "name": "#%%\n"
    }
   }
  },
  {
   "cell_type": "code",
   "execution_count": 64,
   "outputs": [
    {
     "name": "stdout",
     "output_type": "stream",
     "text": [
      "English\n",
      "French\n",
      "German\n",
      "Spanish\n",
      "Portuguese\n",
      "Esperanto\n",
      "Italian\n",
      "Turkish\n",
      "Swedish\n",
      "Polish\n",
      "Dutch\n",
      "Danish\n",
      "Icelandic\n",
      "Finnish\n",
      "Czech\n"
     ]
    }
   ],
   "source": [
    "os.makedirs('xml', exist_ok=True)\n",
    "for lang in langs:\n",
    "    print(lang)\n",
    "    url = f\"https://raw.githubusercontent.com/christos-c/bible-corpus/master/bibles/{lang}.xml\"\n",
    "    with open(f\"xml/{lang}.xml\", \"wb\") as file:\n",
    "        response = requests.get(url)\n",
    "        file.write(response.content)"
   ],
   "metadata": {
    "collapsed": false,
    "pycharm": {
     "name": "#%%\n"
    }
   }
  },
  {
   "cell_type": "code",
   "execution_count": 5,
   "outputs": [
    {
     "name": "stdout",
     "output_type": "stream",
     "text": [
      "English\n",
      "French\n",
      "German\n",
      "Spanish\n",
      "Portuguese\n",
      "Esperanto\n",
      "Italian\n",
      "Turkish\n",
      "Swedish\n",
      "Polish\n",
      "Dutch\n",
      "Danish\n",
      "Icelandic\n",
      "Finnish\n",
      "Czech\n"
     ]
    }
   ],
   "source": [
    "os.makedirs('txt', exist_ok=True)\n",
    "for lang in langs:\n",
    "    print(lang)\n",
    "    root = cET.parse(f'xml/{lang}.xml')\n",
    "    with open(f'txt/{lang}.txt', 'w', encoding='utf-8') as out:\n",
    "        for seg in root.findall(f'.//seg'):\n",
    "            line = \"\".join(seg.itertext()).lower()\n",
    "            line = line.replace('&quot;', '')\n",
    "            line = re.sub('\\W', '', line)\n",
    "            out.write(line + '\\n')"
   ],
   "metadata": {
    "collapsed": false,
    "pycharm": {
     "name": "#%%\n"
    }
   }
  },
  {
   "cell_type": "code",
   "execution_count": 33,
   "outputs": [
    {
     "name": "stdout",
     "output_type": "stream",
     "text": [
      "True: English, Predicted: English\n",
      "True: French, Predicted: French\n",
      "True: German, Predicted: German\n",
      "True: Spanish, Predicted: Spanish\n",
      "True: Portuguese, Predicted: Portuguese\n",
      "True: Esperanto, Predicted: Esperanto\n",
      "True: Italian, Predicted: Italian\n",
      "True: Turkish, Predicted: Turkish\n",
      "True: Swedish, Predicted: Swedish\n",
      "True: Polish, Predicted: Polish\n",
      "True: Dutch, Predicted: Dutch\n",
      "True: Danish, Predicted: Danish\n",
      "True: Icelandic, Predicted: Icelandic\n",
      "True: Finnish, Predicted: Finnish\n",
      "True: Czech, Predicted: Czech\n"
     ]
    }
   ],
   "source": [
    "for lang in langs:\n",
    "    with open(f'txt/{lang}.txt', 'r') as f:\n",
    "        lang_counter = Counter(char for line in f for char in line[:-1])\n",
    "    count = sum(lang_counter.values())\n",
    "    lang_counter = {k: v/count for k, v in sorted(lang_counter.items())}\n",
    "    prediction = min(\n",
    "        df.columns,\n",
    "        key=lambda col: sum(\n",
    "            (lang_counter.get(letter, 0) - freq)**2\n",
    "            for letter, freq in df[col].items()\n",
    "        )\n",
    "    )\n",
    "    print(f'True: {lang}, Predicted: {prediction}')"
   ],
   "metadata": {
    "collapsed": false,
    "pycharm": {
     "name": "#%%\n"
    }
   }
  }
 ],
 "metadata": {
  "kernelspec": {
   "display_name": "Python 3",
   "language": "python",
   "name": "python3"
  },
  "language_info": {
   "codemirror_mode": {
    "name": "ipython",
    "version": 2
   },
   "file_extension": ".py",
   "mimetype": "text/x-python",
   "name": "python",
   "nbconvert_exporter": "python",
   "pygments_lexer": "ipython2",
   "version": "2.7.6"
  }
 },
 "nbformat": 4,
 "nbformat_minor": 0
}