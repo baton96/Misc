{
 "cells": [
  {
   "cell_type": "code",
   "execution_count": 54,
   "metadata": {},
   "outputs": [],
   "source": [
    "from datetime import date, timedelta\n",
    "from bs4 import BeautifulSoup\n",
    "import collections\n",
    "import itertools\n",
    "import requests\n",
    "import igraph\n",
    "\n",
    "today = date.today()\n",
    "previousYears = (date(year, month+1, 1) for year in range(2017, today.year) for month in range(12))\n",
    "thisYear = (date(2021, month+1, 1) for month in range(today.month))\n",
    "'''\n",
    "f = open(\"artists.txt\", \"w\", encoding='utf8')\n",
    "edges = set()\n",
    "for day in itertools.chain(previousYears, thisYear):\n",
    "    print(day)\n",
    "    page = requests.get(f\"https://spotifycharts.com/regional/global/daily/{day}\")\n",
    "    soup = BeautifulSoup(page.content, 'html.parser')\n",
    "    tracks = soup.find_all('td', class_=\"chart-table-track\")[1:]\n",
    "    for track in tracks:\n",
    "        try:\n",
    "            by = str(track).split(\"<span>by \")[1].split(\"</span>\")[0]\n",
    "        except:\n",
    "            print(by)\n",
    "        if ',' in by:\n",
    "            artists = sorted(i.strip() for i in by.split(','))\n",
    "            edges.update(itertools.combinations(artists, 2))\n",
    "for edge in sorted(edges):\n",
    "    f.write(f\"{edge[0]}, {edge[1]}\\n\")\n",
    "f.close()\n",
    "'''\n",
    "pass"
   ]
  },
  {
   "cell_type": "code",
   "execution_count": 11,
   "metadata": {},
   "outputs": [],
   "source": [
    "ids = collections.defaultdict(itertools.count().__next__)\n",
    "edges = []\n",
    "with open(\"savedArtists.txt\", \"r\", encoding='utf8') as f:\n",
    "    for line in f:\n",
    "        source, target = line.rstrip().split(', ')\n",
    "        edges.append((ids[source], ids[target]))"
   ]
  },
  {
   "cell_type": "code",
   "execution_count": 62,
   "metadata": {},
   "outputs": [],
   "source": [
    "g = igraph.Graph(edges=edges)\n",
    "g.vs[\"name\"] = list(ids.keys())"
   ]
  },
  {
   "cell_type": "code",
   "execution_count": 63,
   "metadata": {},
   "outputs": [
    {
     "name": "stdout",
     "output_type": "stream",
     "text": [
      "90\n"
     ]
    }
   ],
   "source": [
    "components = g.components()\n",
    "print(len(components))"
   ]
  },
  {
   "cell_type": "code",
   "execution_count": 64,
   "metadata": {},
   "outputs": [
    {
     "name": "stdout",
     "output_type": "stream",
     "text": [
      "(2, 64)\n",
      "(3, 16)\n",
      "(4, 1)\n",
      "(5, 1)\n",
      "(6, 3)\n",
      "(8, 2)\n",
      "(9, 1)\n",
      "(19, 1)\n",
      "(422, 1)\n"
     ]
    }
   ],
   "source": [
    "sizes = components.sizes()\n",
    "for item in sorted(collections.Counter(sizes).items()):\n",
    "    print(item)"
   ]
  },
  {
   "cell_type": "code",
   "execution_count": 65,
   "metadata": {},
   "outputs": [],
   "source": [
    "giant = components.giant()\n",
    "degrees = giant.degree()"
   ]
  },
  {
   "cell_type": "code",
   "execution_count": 66,
   "metadata": {},
   "outputs": [
    {
     "name": "stdout",
     "output_type": "stream",
     "text": [
      "(1, 127)\n",
      "(2, 81)\n",
      "(3, 45)\n",
      "(4, 38)\n",
      "(5, 32)\n",
      "(6, 19)\n",
      "(7, 11)\n",
      "(8, 14)\n",
      "(9, 4)\n",
      "(10, 4)\n",
      "(11, 5)\n",
      "(12, 9)\n",
      "(13, 5)\n",
      "(14, 4)\n",
      "(15, 3)\n",
      "(16, 1)\n",
      "(17, 3)\n",
      "(18, 2)\n",
      "(19, 1)\n",
      "(20, 1)\n",
      "(21, 1)\n",
      "(22, 2)\n",
      "(25, 1)\n",
      "(26, 2)\n",
      "(29, 1)\n",
      "(30, 1)\n",
      "(33, 2)\n",
      "(35, 1)\n",
      "(45, 1)\n",
      "(47, 1)\n"
     ]
    }
   ],
   "source": [
    "for item in sorted(collections.Counter(degrees).items()):\n",
    "    print(item)"
   ]
  },
  {
   "cell_type": "code",
   "execution_count": 67,
   "metadata": {},
   "outputs": [
    {
     "data": {
      "text/plain": [
       "['J Balvin']"
      ]
     },
     "execution_count": 67,
     "metadata": {},
     "output_type": "execute_result"
    }
   ],
   "source": [
    "giant.vs.select(_degree = giant.maxdegree())[\"name\"]"
   ]
  },
  {
   "cell_type": "code",
   "execution_count": 68,
   "metadata": {},
   "outputs": [],
   "source": [
    "sortedVertices = [v for d, v in sorted(zip(degrees, giant.vs), reverse=True)[:20]]"
   ]
  },
  {
   "cell_type": "code",
   "execution_count": 69,
   "metadata": {},
   "outputs": [
    {
     "name": "stdout",
     "output_type": "stream",
     "text": [
      "47 J Balvin\n",
      "45 Bad Bunny\n",
      "35 Daddy Yankee\n",
      "33 Ozuna\n",
      "33 Farruko\n",
      "30 Anuel AA\n",
      "29 Nicky Jam\n",
      "26 Sech\n",
      "26 Myke Towers\n",
      "25 Drake\n",
      "22 Dalex\n",
      "22 David Guetta\n",
      "21 Lenny Tavárez\n",
      "20 Natti Natasha\n",
      "19 Travis Scott\n",
      "18 Wisin\n",
      "18 Anitta\n",
      "17 Kygo\n",
      "17 Justin Quiles\n",
      "17 Rauw Alejandro\n"
     ]
    }
   ],
   "source": [
    "for v in sortedVertices:\n",
    "    print(v.degree(), v[\"name\"])"
   ]
  },
  {
   "cell_type": "code",
   "execution_count": 51,
   "metadata": {},
   "outputs": [
    {
     "data": {
      "image/svg+xml": [
       "<?xml version=\"1.0\" encoding=\"UTF-8\"?>\n",
       "<svg xmlns=\"http://www.w3.org/2000/svg\" xmlns:xlink=\"http://www.w3.org/1999/xlink\" width=\"600pt\" height=\"600pt\" viewBox=\"0 0 600 600\" version=\"1.1\">\n",
       "<g id=\"surface20\">\n",
       "<rect x=\"0\" y=\"0\" width=\"600\" height=\"600\" style=\"fill:rgb(100%,100%,100%);fill-opacity:1;stroke:none;\"/>\n",
       "<path style=\" stroke:none;fill-rule:nonzero;fill:rgb(100%,0%,0%);fill-opacity:1;\" d=\"M 20 20 L 31.914063 20 L 31.914063 580 L 20 580 Z M 20 20 \"/>\n",
       "<path style=\" stroke:none;fill-rule:nonzero;fill:rgb(100%,0%,0%);fill-opacity:1;\" d=\"M 31.914063 222.835938 L 43.828125 222.835938 L 43.828125 580 L 31.914063 580 Z M 31.914063 222.835938 \"/>\n",
       "<path style=\" stroke:none;fill-rule:nonzero;fill:rgb(100%,0%,0%);fill-opacity:1;\" d=\"M 43.828125 381.574219 L 55.742188 381.574219 L 55.742188 580 L 43.828125 580 Z M 43.828125 381.574219 \"/>\n",
       "<path style=\" stroke:none;fill-rule:nonzero;fill:rgb(100%,0%,0%);fill-opacity:1;\" d=\"M 55.746094 412.441406 L 67.660156 412.441406 L 67.660156 580 L 55.746094 580 Z M 55.746094 412.441406 \"/>\n",
       "<path style=\" stroke:none;fill-rule:nonzero;fill:rgb(100%,0%,0%);fill-opacity:1;\" d=\"M 67.660156 438.898438 L 79.574219 438.898438 L 79.574219 580 L 67.660156 580 Z M 67.660156 438.898438 \"/>\n",
       "<path style=\" stroke:none;fill-rule:nonzero;fill:rgb(100%,0%,0%);fill-opacity:1;\" d=\"M 79.574219 496.21875 L 91.488281 496.21875 L 91.488281 580 L 79.574219 580 Z M 79.574219 496.21875 \"/>\n",
       "<path style=\" stroke:none;fill-rule:nonzero;fill:rgb(100%,0%,0%);fill-opacity:1;\" d=\"M 91.488281 531.496094 L 103.402344 531.496094 L 103.402344 580 L 91.488281 580 Z M 91.488281 531.496094 \"/>\n",
       "<path style=\" stroke:none;fill-rule:nonzero;fill:rgb(100%,0%,0%);fill-opacity:1;\" d=\"M 103.402344 518.269531 L 115.316406 518.269531 L 115.316406 580 L 103.402344 580 Z M 103.402344 518.269531 \"/>\n",
       "<path style=\" stroke:none;fill-rule:nonzero;fill:rgb(100%,0%,0%);fill-opacity:1;\" d=\"M 115.320313 562.363281 L 127.234375 562.363281 L 127.234375 580 L 115.320313 580 Z M 115.320313 562.363281 \"/>\n",
       "<path style=\" stroke:none;fill-rule:nonzero;fill:rgb(100%,0%,0%);fill-opacity:1;\" d=\"M 127.234375 562.363281 L 139.148438 562.363281 L 139.148438 580 L 127.234375 580 Z M 127.234375 562.363281 \"/>\n",
       "<path style=\" stroke:none;fill-rule:nonzero;fill:rgb(100%,0%,0%);fill-opacity:1;\" d=\"M 139.148438 557.953125 L 151.0625 557.953125 L 151.0625 580 L 139.148438 580 Z M 139.148438 557.953125 \"/>\n",
       "<path style=\" stroke:none;fill-rule:nonzero;fill:rgb(100%,0%,0%);fill-opacity:1;\" d=\"M 151.0625 540.316406 L 162.976563 540.316406 L 162.976563 580 L 151.0625 580 Z M 151.0625 540.316406 \"/>\n",
       "<path style=\" stroke:none;fill-rule:nonzero;fill:rgb(100%,0%,0%);fill-opacity:1;\" d=\"M 162.980469 557.953125 L 174.894531 557.953125 L 174.894531 580 L 162.980469 580 Z M 162.980469 557.953125 \"/>\n",
       "<path style=\" stroke:none;fill-rule:nonzero;fill:rgb(100%,0%,0%);fill-opacity:1;\" d=\"M 174.894531 562.363281 L 186.808594 562.363281 L 186.808594 580 L 174.894531 580 Z M 174.894531 562.363281 \"/>\n",
       "<path style=\" stroke:none;fill-rule:nonzero;fill:rgb(100%,0%,0%);fill-opacity:1;\" d=\"M 186.808594 566.773438 L 198.722656 566.773438 L 198.722656 580 L 186.808594 580 Z M 186.808594 566.773438 \"/>\n",
       "<path style=\" stroke:none;fill-rule:nonzero;fill:rgb(100%,0%,0%);fill-opacity:1;\" d=\"M 198.722656 575.589844 L 210.636719 575.589844 L 210.636719 580 L 198.722656 580 Z M 198.722656 575.589844 \"/>\n",
       "<path style=\" stroke:none;fill-rule:nonzero;fill:rgb(100%,0%,0%);fill-opacity:1;\" d=\"M 210.636719 566.773438 L 222.550781 566.773438 L 222.550781 580 L 210.636719 580 Z M 210.636719 566.773438 \"/>\n",
       "<path style=\" stroke:none;fill-rule:nonzero;fill:rgb(100%,0%,0%);fill-opacity:1;\" d=\"M 222.554688 571.179688 L 234.46875 571.179688 L 234.46875 580 L 222.554688 580 Z M 222.554688 571.179688 \"/>\n",
       "<path style=\" stroke:none;fill-rule:nonzero;fill:rgb(100%,0%,0%);fill-opacity:1;\" d=\"M 234.46875 575.589844 L 246.382813 575.589844 L 246.382813 580 L 234.46875 580 Z M 234.46875 575.589844 \"/>\n",
       "<path style=\" stroke:none;fill-rule:nonzero;fill:rgb(100%,0%,0%);fill-opacity:1;\" d=\"M 246.382813 575.589844 L 258.296875 575.589844 L 258.296875 580 L 246.382813 580 Z M 246.382813 575.589844 \"/>\n",
       "<path style=\" stroke:none;fill-rule:nonzero;fill:rgb(100%,0%,0%);fill-opacity:1;\" d=\"M 258.296875 575.589844 L 270.210938 575.589844 L 270.210938 580 L 258.296875 580 Z M 258.296875 575.589844 \"/>\n",
       "<path style=\" stroke:none;fill-rule:nonzero;fill:rgb(100%,0%,0%);fill-opacity:1;\" d=\"M 270.210938 571.179688 L 282.125 571.179688 L 282.125 580 L 270.210938 580 Z M 270.210938 571.179688 \"/>\n",
       "<path style=\" stroke:none;fill-rule:nonzero;fill:rgb(100%,0%,0%);fill-opacity:1;\" d=\"M 305.957031 575.589844 L 317.871094 575.589844 L 317.871094 580 L 305.957031 580 Z M 305.957031 575.589844 \"/>\n",
       "<path style=\" stroke:none;fill-rule:nonzero;fill:rgb(100%,0%,0%);fill-opacity:1;\" d=\"M 317.871094 571.179688 L 329.785156 571.179688 L 329.785156 580 L 317.871094 580 Z M 317.871094 571.179688 \"/>\n",
       "<path style=\" stroke:none;fill-rule:nonzero;fill:rgb(100%,0%,0%);fill-opacity:1;\" d=\"M 353.617188 575.589844 L 365.53125 575.589844 L 365.53125 580 L 353.617188 580 Z M 353.617188 575.589844 \"/>\n",
       "<path style=\" stroke:none;fill-rule:nonzero;fill:rgb(100%,0%,0%);fill-opacity:1;\" d=\"M 365.53125 575.589844 L 377.445313 575.589844 L 377.445313 580 L 365.53125 580 Z M 365.53125 575.589844 \"/>\n",
       "<path style=\" stroke:none;fill-rule:nonzero;fill:rgb(100%,0%,0%);fill-opacity:1;\" d=\"M 401.277344 571.179688 L 413.191406 571.179688 L 413.191406 580 L 401.277344 580 Z M 401.277344 571.179688 \"/>\n",
       "<path style=\" stroke:none;fill-rule:nonzero;fill:rgb(100%,0%,0%);fill-opacity:1;\" d=\"M 425.105469 575.589844 L 437.019531 575.589844 L 437.019531 580 L 425.105469 580 Z M 425.105469 575.589844 \"/>\n",
       "<path style=\" stroke:none;fill-rule:nonzero;fill:rgb(100%,0%,0%);fill-opacity:1;\" d=\"M 544.253906 575.589844 L 556.167969 575.589844 L 556.167969 580 L 544.253906 580 Z M 544.253906 575.589844 \"/>\n",
       "<path style=\" stroke:none;fill-rule:nonzero;fill:rgb(100%,0%,0%);fill-opacity:1;\" d=\"M 568.085938 575.589844 L 580 575.589844 L 580 580 L 568.085938 580 Z M 568.085938 575.589844 \"/>\n",
       "<path style=\"fill:none;stroke-width:1;stroke-linecap:butt;stroke-linejoin:miter;stroke:rgb(0%,0%,0%);stroke-opacity:1;stroke-miterlimit:10;\" d=\"M 20 20 L 580 20 L 580 580 L 20 580 Z M 20 20 \"/>\n",
       "</g>\n",
       "</svg>\n"
      ],
      "text/plain": [
       "<igraph.drawing.Plot at 0x95e4fc8>"
      ]
     },
     "execution_count": 51,
     "metadata": {
      "image/svg+xml": {
       "isolated": true
      }
     },
     "output_type": "execute_result"
    }
   ],
   "source": [
    "igraph.plot(giant.degree_distribution())"
   ]
  },
  {
   "cell_type": "code",
   "execution_count": null,
   "metadata": {},
   "outputs": [],
   "source": []
  }
 ],
 "metadata": {
  "kernelspec": {
   "display_name": "Python 3",
   "language": "python",
   "name": "python3"
  },
  "language_info": {
   "codemirror_mode": {
    "name": "ipython",
    "version": 3
   },
   "file_extension": ".py",
   "mimetype": "text/x-python",
   "name": "python",
   "nbconvert_exporter": "python",
   "pygments_lexer": "ipython3",
   "version": "3.7.9"
  }
 },
 "nbformat": 4,
 "nbformat_minor": 4
}
